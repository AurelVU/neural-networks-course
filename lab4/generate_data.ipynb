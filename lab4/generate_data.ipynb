{
 "cells": [
  {
   "cell_type": "code",
   "execution_count": 100,
   "metadata": {
    "collapsed": true
   },
   "outputs": [],
   "source": [
    "import numpy as np\n",
    "import pandas as pd\n",
    "import matplotlib.pyplot as plt\n",
    "import seaborn as sns\n",
    "\n",
    "import matplotlib.image as mpimg\n",
    "import os"
   ]
  },
  {
   "cell_type": "code",
   "execution_count": 101,
   "outputs": [],
   "source": [
    "img = mpimg.imread('data/output/Circle_0a0b51ca-2a86-11ea-8123-8363a7ec19e6.png')"
   ],
   "metadata": {
    "collapsed": false,
    "pycharm": {
     "name": "#%%\n"
    }
   }
  },
  {
   "cell_type": "code",
   "execution_count": 102,
   "outputs": [
    {
     "data": {
      "text/plain": "array([[[0.78039217, 0.84313726, 0.39607844],\n        [0.78039217, 0.84313726, 0.39607844],\n        [0.78039217, 0.84313726, 0.39607844],\n        ...,\n        [0.78039217, 0.84313726, 0.39607844],\n        [0.78039217, 0.84313726, 0.39607844],\n        [0.78039217, 0.84313726, 0.39607844]],\n\n       [[0.78039217, 0.84313726, 0.39607844],\n        [0.78039217, 0.84313726, 0.39607844],\n        [0.78039217, 0.84313726, 0.39607844],\n        ...,\n        [0.78039217, 0.84313726, 0.39607844],\n        [0.78039217, 0.84313726, 0.39607844],\n        [0.78039217, 0.84313726, 0.39607844]],\n\n       [[0.78039217, 0.84313726, 0.39607844],\n        [0.78039217, 0.84313726, 0.39607844],\n        [0.78039217, 0.84313726, 0.39607844],\n        ...,\n        [0.78039217, 0.84313726, 0.39607844],\n        [0.78039217, 0.84313726, 0.39607844],\n        [0.78039217, 0.84313726, 0.39607844]],\n\n       ...,\n\n       [[0.78039217, 0.84313726, 0.39607844],\n        [0.78039217, 0.84313726, 0.39607844],\n        [0.78039217, 0.84313726, 0.39607844],\n        ...,\n        [0.78039217, 0.84313726, 0.39607844],\n        [0.78039217, 0.84313726, 0.39607844],\n        [0.78039217, 0.84313726, 0.39607844]],\n\n       [[0.78039217, 0.84313726, 0.39607844],\n        [0.78039217, 0.84313726, 0.39607844],\n        [0.78039217, 0.84313726, 0.39607844],\n        ...,\n        [0.78039217, 0.84313726, 0.39607844],\n        [0.78039217, 0.84313726, 0.39607844],\n        [0.78039217, 0.84313726, 0.39607844]],\n\n       [[0.78039217, 0.84313726, 0.39607844],\n        [0.78039217, 0.84313726, 0.39607844],\n        [0.78039217, 0.84313726, 0.39607844],\n        ...,\n        [0.78039217, 0.84313726, 0.39607844],\n        [0.78039217, 0.84313726, 0.39607844],\n        [0.78039217, 0.84313726, 0.39607844]]], dtype=float32)"
     },
     "execution_count": 102,
     "metadata": {},
     "output_type": "execute_result"
    }
   ],
   "source": [
    "img"
   ],
   "metadata": {
    "collapsed": false,
    "pycharm": {
     "name": "#%%\n"
    }
   }
  },
  {
   "cell_type": "code",
   "execution_count": 103,
   "outputs": [],
   "source": [
    "target = pd.DataFrame(os.listdir('data/output'), columns=['fig_path'])"
   ],
   "metadata": {
    "collapsed": false,
    "pycharm": {
     "name": "#%%\n"
    }
   }
  },
  {
   "cell_type": "code",
   "execution_count": 104,
   "outputs": [],
   "source": [
    "target['fig_name'] = target['fig_path'].apply(lambda x: x.split('_')[0])"
   ],
   "metadata": {
    "collapsed": false,
    "pycharm": {
     "name": "#%%\n"
    }
   }
  },
  {
   "cell_type": "code",
   "execution_count": 105,
   "outputs": [
    {
     "data": {
      "text/plain": "array(['Nonagon', 'Hexagon', 'Square', 'Triangle', 'Pentagon', 'Circle',\n       'Star', 'Octagon', 'Heptagon'], dtype=object)"
     },
     "execution_count": 105,
     "metadata": {},
     "output_type": "execute_result"
    }
   ],
   "source": [
    "target['fig_name'].unique()"
   ],
   "metadata": {
    "collapsed": false,
    "pycharm": {
     "name": "#%%\n"
    }
   }
  },
  {
   "cell_type": "code",
   "execution_count": 106,
   "outputs": [],
   "source": [
    "target = target[target['fig_name'].isin(['Circle', 'Square', 'Triangle'])]"
   ],
   "metadata": {
    "collapsed": false,
    "pycharm": {
     "name": "#%%\n"
    }
   }
  },
  {
   "cell_type": "code",
   "execution_count": 107,
   "outputs": [],
   "source": [
    "target = target.sample(10000)"
   ],
   "metadata": {
    "collapsed": false,
    "pycharm": {
     "name": "#%%\n"
    }
   }
  },
  {
   "cell_type": "code",
   "execution_count": 108,
   "outputs": [],
   "source": [
    "target.to_csv('data/figures.csv')"
   ],
   "metadata": {
    "collapsed": false,
    "pycharm": {
     "name": "#%%\n"
    }
   }
  }
 ],
 "metadata": {
  "kernelspec": {
   "display_name": "Python 3",
   "language": "python",
   "name": "python3"
  },
  "language_info": {
   "codemirror_mode": {
    "name": "ipython",
    "version": 2
   },
   "file_extension": ".py",
   "mimetype": "text/x-python",
   "name": "python",
   "nbconvert_exporter": "python",
   "pygments_lexer": "ipython2",
   "version": "2.7.6"
  }
 },
 "nbformat": 4,
 "nbformat_minor": 0
}